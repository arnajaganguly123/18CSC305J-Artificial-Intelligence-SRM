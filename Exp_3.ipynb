{
  "nbformat": 4,
  "nbformat_minor": 0,
  "metadata": {
    "colab": {
      "provenance": [],
      "authorship_tag": "ABX9TyPixPwAftGOvxZlxzWCMBtX",
      "include_colab_link": true
    },
    "kernelspec": {
      "name": "python3",
      "display_name": "Python 3"
    },
    "language_info": {
      "name": "python"
    }
  },
  "cells": [
    {
      "cell_type": "markdown",
      "metadata": {
        "id": "view-in-github",
        "colab_type": "text"
      },
      "source": [
        "<a href=\"https://colab.research.google.com/github/arnajaganguly123/18CSC305J-Artificial-Intelligence-SRM/blob/main/Exp_3.ipynb\" target=\"_parent\"><img src=\"https://colab.research.google.com/assets/colab-badge.svg\" alt=\"Open In Colab\"/></a>"
      ]
    },
    {
      "cell_type": "code",
      "execution_count": 2,
      "metadata": {
        "colab": {
          "base_uri": "https://localhost:8080/"
        },
        "id": "dI7vV8qKdsMx",
        "outputId": "8d6391c9-7fb8-4e13-99b4-b859b154e71c"
      },
      "outputs": [
        {
          "output_type": "stream",
          "name": "stdout",
          "text": [
            "[(9567, 1085, 10652)]\n"
          ]
        }
      ],
      "source": [
        "def solutions():\n",
        "    # letters = ('s', 'e', 'n', 'd', 'm', 'o', 'r', 'y')\n",
        "    all_solutions = list()\n",
        "    for s in range(9, -1, -1):\n",
        "        for e in range(9, -1, -1):\n",
        "            for n in range(9, -1, -1):\n",
        "                for d in range(9, -1, -1):\n",
        "                    for m in range(9, 0, -1):\n",
        "                        for o in range(9, -1, -1):\n",
        "                            for r in range(9, -1, -1):\n",
        "                                for y in range(9, -1, -1):\n",
        "                                    if len(set([s, e, n, d, m, o, r, y])) == 8:\n",
        "                                        send = 1000 * s + 100 * e + 10 * n + d\n",
        "                                        more = 1000 * m + 100 * o + 10 * r + e\n",
        "                                        money = 10000 * m + 1000 * o + 100 * n + 10 * e + y\n",
        "\n",
        "                                        if send + more == money:\n",
        "                                            all_solutions.append((send, more, money))\n",
        "    return all_solutions\n",
        "\n",
        "print(solutions())"
      ]
    },
    {
      "cell_type": "code",
      "source": [],
      "metadata": {
        "id": "Q-miCSrFd2eM"
      },
      "execution_count": null,
      "outputs": []
    }
  ]
}